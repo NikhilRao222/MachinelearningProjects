{
 "cells": [
  {
   "cell_type": "code",
   "execution_count": 2,
   "metadata": {
    "colab": {
     "base_uri": "https://localhost:8080/"
    },
    "id": "ronVFb0cPvZO",
    "outputId": "901bd7b0-2ee2-4bf4-d463-e211cf757c38"
   },
   "outputs": [
    {
     "name": "stdout",
     "output_type": "stream",
     "text": [
      "CPU times: user 1.26 s, sys: 234 ms, total: 1.49 s\n",
      "Wall time: 3.17 s\n"
     ]
    }
   ],
   "source": [
    "%%time\n",
    "import pandas as pd\n",
    "import numpy as np\n",
    "from sklearn.model_selection import train_test_split\n",
    "from sklearn.metrics import f1_score\n",
    "from sklearn.tree import DecisionTreeClassifier\n",
    "from sklearn.naive_bayes import BernoulliNB\n",
    "from sklearn.decomposition import PCA\n",
    "from sklearn.metrics import classification_report\n",
    "from imblearn.over_sampling import RandomOverSampler\n",
    "from collections import Counter"
   ]
  },
  {
   "cell_type": "code",
   "execution_count": 4,
   "metadata": {
    "colab": {
     "base_uri": "https://localhost:8080/"
    },
    "id": "_xSd76H3hM1j",
    "outputId": "9a824774-bcdd-417a-bb12-cdc5a65f2dfd"
   },
   "outputs": [
    {
     "name": "stdout",
     "output_type": "stream",
     "text": [
      "CPU times: user 9.25 s, sys: 1.2 s, total: 10.4 s\n",
      "Wall time: 10.5 s\n"
     ]
    }
   ],
   "source": [
    "%%time\n",
    "with open('/content/drive/MyDrive/Colab Notebooks/train.txt','r') as train:\n",
    "  train=train.readlines()\n",
    "  train_values=[]\n",
    "  train_labels=[]\n",
    "\n",
    "  for i in train:\n",
    "    columns=[0 for i in range(100000)]\n",
    "    train_labels.append(int(i[0]))\n",
    "    i=i.replace(\"0\\t\",\"\")\n",
    "    i=i.replace(\"1\\t\",\"\")\n",
    "    i=i.replace(\"\\n\",\"\")\n",
    "    new_list=list(map(int,i.split(\" \")[:-1]))\n",
    "    for i in new_list:\n",
    "      columns[i-1]=1\n",
    "    train_values.append(columns)\n",
    "  x=np.array(train_values)\n",
    "  y=np.array(train_labels)"
   ]
  },
  {
   "cell_type": "code",
   "execution_count": 5,
   "metadata": {
    "colab": {
     "base_uri": "https://localhost:8080/"
    },
    "id": "OexQa6fThN8y",
    "outputId": "be721094-81ef-490c-976d-b4acbd57ede5"
   },
   "outputs": [
    {
     "name": "stdout",
     "output_type": "stream",
     "text": [
      "CPU times: user 4.33 s, sys: 432 ms, total: 4.76 s\n",
      "Wall time: 4.77 s\n"
     ]
    }
   ],
   "source": [
    "%%time\n",
    "with open('/content/drive/MyDrive/Colab Notebooks/test.txt','r') as test:\n",
    "  test=test.readlines()\n",
    "  test_values=[]\n",
    "\n",
    "  for i in test:\n",
    "    columns=[0 for i in range(100000)]\n",
    "    new_list=list(map(int,i.split(\" \")[:-1]))\n",
    "    for i in new_list:\n",
    "      columns[i-1]=1\n",
    "    test_values.append(columns)\n",
    "  test=np.array(test_values)"
   ]
  },
  {
   "cell_type": "code",
   "execution_count": 6,
   "metadata": {
    "colab": {
     "base_uri": "https://localhost:8080/"
    },
    "id": "h3gIP_1AhRTj",
    "outputId": "7a0c19f7-e49b-4da7-d643-e6f8d1984192"
   },
   "outputs": [
    {
     "name": "stdout",
     "output_type": "stream",
     "text": [
      "CPU times: user 97.2 ms, sys: 165 ms, total: 263 ms\n",
      "Wall time: 263 ms\n"
     ]
    }
   ],
   "source": [
    "%%time\n",
    "x_train, x_test, y_train, y_test = train_test_split(x, y, test_size=0.1,random_state=42)"
   ]
  },
  {
   "cell_type": "markdown",
   "metadata": {
    "id": "fBA-hD-qLK1A"
   },
   "source": [
    "**Naive Bayes**"
   ]
  },
  {
   "cell_type": "markdown",
   "metadata": {
    "id": "2HFBiLR9R_no"
   },
   "source": [
    "First model that i have used is Naive bayes classifier"
   ]
  },
  {
   "cell_type": "code",
   "execution_count": 48,
   "metadata": {
    "colab": {
     "base_uri": "https://localhost:8080/"
    },
    "id": "dzZQ7wprYj6_",
    "outputId": "0b151a24-810f-451b-e922-fc4bdbaf082b"
   },
   "outputs": [
    {
     "name": "stdout",
     "output_type": "stream",
     "text": [
      "F1 score for number of components :  100\n",
      "F1-> 0.8750000000000001\n",
      "F1 score for number of components :  200\n",
      "F1-> 0.8\n",
      "F1 score for number of components :  300\n",
      "F1-> 0.8\n",
      "F1 score for number of components :  400\n",
      "F1-> 0.6666666666666667\n",
      "F1 score for number of components :  500\n",
      "F1-> 0.6666666666666667\n",
      "F1 score for number of components :  600\n",
      "F1-> 0.6666666666666667\n",
      "F1 score for number of components :  700\n",
      "F1-> 0.6666666666666667\n",
      "CPU times: user 7min 2s, sys: 35.1 s, total: 7min 38s\n",
      "Wall time: 4min 16s\n"
     ]
    }
   ],
   "source": [
    "%%time\n",
    "#for choosing number of components in principal component analysis i have take a  for loop aand choosen best numbe rof components\n",
    "for i in range(100,720,100):\n",
    "  pca=PCA(n_components=i)\n",
    "  x_train_pca=pca.fit_transform(x_train)\n",
    "  x_test_pca=pca.transform(x_test)\n",
    "  test_pca=pca.transform(test)\n",
    "  pca_NB = BernoulliNB()\n",
    "  pca_NB.fit(x_train_pca,y_train)\n",
    "  y_pca_pred=pca_NB.predict(x_test_pca)\n",
    "  print(\"F1 score for number of components : \", str(i))\n",
    "  print(\"F1->\",f1_score(y_pca_pred,y_test))\n"
   ]
  },
  {
   "cell_type": "markdown",
   "metadata": {
    "id": "h_hI3PyCH9dt"
   },
   "source": [
    "Resampling the data using random over sampler and then performing PCA and appling naive bayes classifier"
   ]
  },
  {
   "cell_type": "code",
   "execution_count": 7,
   "metadata": {
    "colab": {
     "base_uri": "https://localhost:8080/"
    },
    "id": "G_ZPOcznDDVY",
    "outputId": "98b96176-b526-471a-b08c-23ac66fb5fd0"
   },
   "outputs": [
    {
     "name": "stdout",
     "output_type": "stream",
     "text": [
      "[(0, 722), (1, 722)]\n",
      "CPU times: user 698 ms, sys: 4.77 s, total: 5.47 s\n",
      "Wall time: 5.33 s\n"
     ]
    }
   ],
   "source": [
    "%%time\n",
    "sampling = RandomOverSampler(random_state=0)\n",
    "x_resampled, y_resampled = sampling.fit_resample(x, y)\n",
    "print(sorted(Counter(y_resampled).items()))"
   ]
  },
  {
   "cell_type": "code",
   "execution_count": 9,
   "metadata": {
    "colab": {
     "base_uri": "https://localhost:8080/"
    },
    "id": "CDozSDgDDamT",
    "outputId": "f2a314ec-03e8-4a30-f0f5-adeea0bbfc3f"
   },
   "outputs": [
    {
     "name": "stdout",
     "output_type": "stream",
     "text": [
      "CPU times: user 266 ms, sys: 1.35 s, total: 1.62 s\n",
      "Wall time: 2.37 s\n"
     ]
    }
   ],
   "source": [
    "%%time\n",
    "x_sampling_train, x_sampling_test, y_sampling_train, y_sampling_test = train_test_split(x_resampled, y_resampled, test_size=0.1,random_state=42)"
   ]
  },
  {
   "cell_type": "code",
   "execution_count": 12,
   "metadata": {
    "colab": {
     "base_uri": "https://localhost:8080/"
    },
    "id": "cSBED6y3EJWx",
    "outputId": "4caa4f4e-15fe-49be-b9a8-a8f9ef16db27"
   },
   "outputs": [
    {
     "name": "stdout",
     "output_type": "stream",
     "text": [
      "CPU times: user 1min 6s, sys: 3.11 s, total: 1min 9s\n",
      "Wall time: 38.3 s\n"
     ]
    }
   ],
   "source": [
    "%%time\n",
    "#applied pca\n",
    "pca_sampling=PCA(n_components=300)\n",
    "x_train_sampling_pca=pca_sampling.fit_transform(x_sampling_train)\n",
    "x_test_sampling_pca=pca_sampling.transform(x_sampling_test)"
   ]
  },
  {
   "cell_type": "code",
   "execution_count": 14,
   "metadata": {
    "colab": {
     "base_uri": "https://localhost:8080/"
    },
    "id": "BRDr0k38EJid",
    "outputId": "3066b7ad-7b2a-4ce1-bb54-cacb0221c80c"
   },
   "outputs": [
    {
     "name": "stdout",
     "output_type": "stream",
     "text": [
      "F1 score of bernoulli classifier after resampling the data:\n",
      "CPU times: user 18.5 ms, sys: 6.04 ms, total: 24.6 ms\n",
      "Wall time: 21.8 ms\n"
     ]
    },
    {
     "data": {
      "text/plain": [
       "0.9241379310344827"
      ]
     },
     "execution_count": 14,
     "metadata": {},
     "output_type": "execute_result"
    }
   ],
   "source": [
    "%%time\n",
    "# trained the model\n",
    "pca_sampling_NB = BernoulliNB()\n",
    "pca_sampling_NB.fit(x_train_sampling_pca,y_sampling_train)\n",
    "y_pca_sampling_pred=pca_sampling_NB.predict(x_test_sampling_pca)\n",
    "print(\"F1 score of bernoulli classifier after resampling the data:\")\n",
    "f1_score(y_pca_sampling_pred,y_sampling_test)"
   ]
  },
  {
   "cell_type": "code",
   "execution_count": 34,
   "metadata": {
    "id": "02gRBYUMImlE"
   },
   "outputs": [],
   "source": [
    "#Using random oversampler is trying to overfit the model. Though the model develops an f1 score of 0.84 on train set, when the test set is given to predict the values the model couldn't even predict 50% values of the values correctly. "
   ]
  },
  {
   "cell_type": "markdown",
   "metadata": {
    "id": "_lIXM8l2Lf9-"
   },
   "source": [
    "Using PCA without using random oversampler and then applying naive bayes classifier"
   ]
  },
  {
   "cell_type": "code",
   "execution_count": 26,
   "metadata": {
    "colab": {
     "base_uri": "https://localhost:8080/"
    },
    "id": "jtwQfhydqnsO",
    "outputId": "bf7ea2fa-9458-4511-f620-3313a8d7a749"
   },
   "outputs": [
    {
     "name": "stdout",
     "output_type": "stream",
     "text": [
      "CPU times: user 46.1 s, sys: 4.56 s, total: 50.7 s\n",
      "Wall time: 28.7 s\n"
     ]
    }
   ],
   "source": [
    "%%time\n",
    "#trained the model without applying random over sampling\n",
    "pca=PCA(n_components=300)\n",
    "x_train_pca=pca.fit_transform(x_train)\n",
    "x_test_pca=pca.transform(x_test)\n",
    "test_pca=pca.transform(test)"
   ]
  },
  {
   "cell_type": "code",
   "execution_count": 27,
   "metadata": {
    "colab": {
     "base_uri": "https://localhost:8080/"
    },
    "id": "L2p3BujzQeKM",
    "outputId": "f9d666a8-66c4-4f36-ad22-999d3c1acc19"
   },
   "outputs": [
    {
     "name": "stdout",
     "output_type": "stream",
     "text": [
      "F1 score of bernoulli classifier:\n",
      "CPU times: user 16.8 ms, sys: 4.88 ms, total: 21.7 ms\n",
      "Wall time: 16.5 ms\n"
     ]
    },
    {
     "data": {
      "text/plain": [
       "0.75"
      ]
     },
     "execution_count": 27,
     "metadata": {},
     "output_type": "execute_result"
    }
   ],
   "source": [
    "%%time\n",
    "pca_NB = BernoulliNB()\n",
    "pca_NB.fit(x_train_pca,y_train)\n",
    "y_pca_pred=pca_NB.predict(x_test_pca)\n",
    "print(\"F1 score of bernoulli classifier:\")\n",
    "f1_score(y_pca_pred,y_test)"
   ]
  },
  {
   "cell_type": "code",
   "execution_count": 17,
   "metadata": {
    "colab": {
     "base_uri": "https://localhost:8080/"
    },
    "id": "dTkHiQN_8nfH",
    "outputId": "fbcc9abe-ec58-4242-a9e8-e36c6013fc32"
   },
   "outputs": [
    {
     "name": "stdout",
     "output_type": "stream",
     "text": [
      "Classification report:\n",
      "              precision    recall  f1-score   support\n",
      "\n",
      "           0       1.00      0.95      0.97        75\n",
      "           1       0.56      1.00      0.71         5\n",
      "\n",
      "    accuracy                           0.95        80\n",
      "   macro avg       0.78      0.97      0.84        80\n",
      "weighted avg       0.97      0.95      0.96        80\n",
      "\n",
      "CPU times: user 11.5 ms, sys: 0 ns, total: 11.5 ms\n",
      "Wall time: 21.5 ms\n"
     ]
    }
   ],
   "source": [
    "%%time\n",
    "print(\"Classification report:\")\n",
    "print(classification_report(y_pca_pred, y_test))"
   ]
  },
  {
   "cell_type": "code",
   "execution_count": 25,
   "metadata": {
    "id": "MY5bHkoiRDJI"
   },
   "outputs": [],
   "source": [
    "%%time\n",
    "test_out = list(pca_NB.predict(test_pca))\n",
    "file=open('/content/drive/MyDrive/Colab Notebooks/output_NB_pca.txt','w')\n",
    "for i in test_out:\n",
    "  file.write(str(i)+'\\n')\n",
    "file.close()\n",
    "#f1 score for test set came out to be 75 and can be found in miner"
   ]
  },
  {
   "cell_type": "markdown",
   "metadata": {
    "id": "80JwG1UvNFl_"
   },
   "source": [
    "**Decision Tree Classifier**"
   ]
  },
  {
   "cell_type": "markdown",
   "metadata": {
    "id": "m7TsWuImR3Ow"
   },
   "source": [
    "Second model that i have used is decision tree classifier"
   ]
  },
  {
   "cell_type": "code",
   "execution_count": 18,
   "metadata": {
    "colab": {
     "base_uri": "https://localhost:8080/"
    },
    "id": "PYHqdosljTQC",
    "outputId": "7aa45c6c-33b8-4721-e2c6-a9e778bfc299"
   },
   "outputs": [
    {
     "name": "stdout",
     "output_type": "stream",
     "text": [
      "CPU times: user 983 ms, sys: 8.53 ms, total: 991 ms\n",
      "Wall time: 1.07 s\n"
     ]
    },
    {
     "data": {
      "text/plain": [
       "count    100000.000000\n",
       "mean          0.008893\n",
       "std           0.011081\n",
       "min           0.000000\n",
       "25%           0.001250\n",
       "50%           0.004981\n",
       "75%           0.012359\n",
       "max           0.190213\n",
       "dtype: float64"
      ]
     },
     "execution_count": 18,
     "metadata": {},
     "output_type": "execute_result"
    }
   ],
   "source": [
    "%%time\n",
    "df_x=pd.DataFrame(data=x)\n",
    "df_x.var().describe()"
   ]
  },
  {
   "cell_type": "code",
   "execution_count": 19,
   "metadata": {
    "colab": {
     "base_uri": "https://localhost:8080/"
    },
    "id": "Rx11LxVqjdu8",
    "outputId": "a23e2128-7bcc-49d4-f748-695a270bdbc6"
   },
   "outputs": [
    {
     "name": "stdout",
     "output_type": "stream",
     "text": [
      "CPU times: user 22.4 s, sys: 490 ms, total: 22.8 s\n",
      "Wall time: 23 s\n"
     ]
    }
   ],
   "source": [
    "%%time\n",
    "#removed the columns with variance less than threshold value of 0.012359\n",
    "columns=df_x.columns\n",
    "new_columns=[]\n",
    "for i in range(len(columns)):\n",
    "  if df_x[i].var()>=0.012359:\n",
    "    new_columns.append(columns[i])"
   ]
  },
  {
   "cell_type": "code",
   "execution_count": 20,
   "metadata": {
    "colab": {
     "base_uri": "https://localhost:8080/"
    },
    "id": "74Q2IsUbjh9Z",
    "outputId": "69a709d3-3844-404a-a8ba-d30f57e395f9"
   },
   "outputs": [
    {
     "name": "stdout",
     "output_type": "stream",
     "text": [
      "CPU times: user 4.52 s, sys: 16.6 ms, total: 4.54 s\n",
      "Wall time: 4.55 s\n"
     ]
    }
   ],
   "source": [
    "%%time\n",
    "#performed train test split and trained the model\n",
    "df_x=df_x[new_columns]\n",
    "df_x_train, df_x_test, y_DT_train, y_DT_test = train_test_split(df_x, y, test_size=0.1,random_state=42)\n",
    "DT=DecisionTreeClassifier()\n",
    "DT.fit(df_x_train,y_DT_train)\n",
    "y_DT_pred=list(DT.predict(df_x_test))"
   ]
  },
  {
   "cell_type": "code",
   "execution_count": 21,
   "metadata": {
    "colab": {
     "base_uri": "https://localhost:8080/"
    },
    "id": "g45A2DNwkZAP",
    "outputId": "532be1a1-1a9a-4bf1-9f17-ee63060f94cc"
   },
   "outputs": [
    {
     "name": "stdout",
     "output_type": "stream",
     "text": [
      "CPU times: user 3.25 ms, sys: 0 ns, total: 3.25 ms\n",
      "Wall time: 11.1 ms\n"
     ]
    },
    {
     "data": {
      "text/plain": [
       "0.6666666666666666"
      ]
     },
     "execution_count": 21,
     "metadata": {},
     "output_type": "execute_result"
    }
   ],
   "source": [
    "%%time\n",
    "#calculated f1 score for train set\n",
    "f1_score(y_DT_test, y_DT_pred)"
   ]
  },
  {
   "cell_type": "code",
   "execution_count": 22,
   "metadata": {
    "colab": {
     "base_uri": "https://localhost:8080/"
    },
    "id": "Yi5P5EUN-M32",
    "outputId": "39d1ff2d-43c5-44d5-9eb5-b520cfa3d8c2"
   },
   "outputs": [
    {
     "name": "stdout",
     "output_type": "stream",
     "text": [
      "Classification report:\n",
      "              precision    recall  f1-score   support\n",
      "\n",
      "           0       0.96      0.96      0.96        71\n",
      "           1       0.67      0.67      0.67         9\n",
      "\n",
      "    accuracy                           0.93        80\n",
      "   macro avg       0.81      0.81      0.81        80\n",
      "weighted avg       0.93      0.93      0.93        80\n",
      "\n",
      "CPU times: user 10.7 ms, sys: 888 µs, total: 11.5 ms\n",
      "Wall time: 23 ms\n"
     ]
    }
   ],
   "source": [
    "%%time\n",
    "print(\"Classification report:\")\n",
    "print(classification_report(y_DT_test, y_DT_pred))"
   ]
  },
  {
   "cell_type": "code",
   "execution_count": 23,
   "metadata": {
    "colab": {
     "base_uri": "https://localhost:8080/"
    },
    "id": "Lv8ZuEXmkrzN",
    "outputId": "746d7968-c081-45fa-90a0-bbee5dff4b86"
   },
   "outputs": [
    {
     "name": "stdout",
     "output_type": "stream",
     "text": [
      "CPU times: user 70.7 ms, sys: 60 µs, total: 70.7 ms\n",
      "Wall time: 85 ms\n"
     ]
    }
   ],
   "source": [
    "%%time\n",
    "df_test=pd.DataFrame(data=test)\n",
    "df_test=df_test[new_columns]"
   ]
  },
  {
   "cell_type": "code",
   "execution_count": 24,
   "metadata": {
    "colab": {
     "base_uri": "https://localhost:8080/"
    },
    "id": "8IsDwvamlAnl",
    "outputId": "fae9d28a-9543-49fb-8fdd-9fea3daf9b8d"
   },
   "outputs": [
    {
     "name": "stdout",
     "output_type": "stream",
     "text": [
      "CPU times: user 208 ms, sys: 2.88 ms, total: 211 ms\n",
      "Wall time: 224 ms\n"
     ]
    }
   ],
   "source": [
    "%%time\n",
    "#predicted the test set values\n",
    "test_DT_pred=list(DT.predict(df_test))"
   ]
  },
  {
   "cell_type": "code",
   "execution_count": 24,
   "metadata": {
    "id": "HB3HRDcOOQZi"
   },
   "outputs": [],
   "source": [
    "%%time\n",
    "file=open('/content/drive/MyDrive/Colab Notebooks/result_DT_var1.txt','w')\n",
    "for i in test_DT_pred:\n",
    "  file.write(str(i)+'\\n')\n",
    "file.close()\n",
    "#f1-score for test set came out to be 0.6"
   ]
  },
  {
   "cell_type": "markdown",
   "metadata": {
    "id": "3aOoXd2wPM-b"
   },
   "source": [
    "F1-score\n",
    "\n",
    "Naive bayes -> 0.75\n",
    "Decison Tree -> 0.60\n",
    "\n",
    "Naive bayes classifier has given me better f1-score of 0.75"
   ]
  }
 ],
 "metadata": {
  "colab": {
   "collapsed_sections": [],
   "provenance": []
  },
  "kernelspec": {
   "display_name": "Python 3 (ipykernel)",
   "language": "python",
   "name": "python3"
  },
  "language_info": {
   "codemirror_mode": {
    "name": "ipython",
    "version": 3
   },
   "file_extension": ".py",
   "mimetype": "text/x-python",
   "name": "python",
   "nbconvert_exporter": "python",
   "pygments_lexer": "ipython3",
   "version": "3.9.7"
  }
 },
 "nbformat": 4,
 "nbformat_minor": 1
}
