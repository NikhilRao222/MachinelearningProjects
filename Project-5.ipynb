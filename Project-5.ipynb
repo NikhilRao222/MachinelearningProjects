{
  "nbformat": 4,
  "nbformat_minor": 0,
  "metadata": {
    "colab": {
      "provenance": []
    },
    "kernelspec": {
      "name": "python3",
      "display_name": "Python 3"
    },
    "language_info": {
      "name": "python"
    }
  },
  "cells": [
    {
      "cell_type": "code",
      "source": [
        "import numpy as np\n",
        "import pandas as pd\n",
        "import random\n",
        "import math\n",
        "from sklearn.manifold import TSNE\n",
        "import matplotlib.pyplot as plt\n",
        "from sklearn.decomposition import TruncatedSVD"
      ],
      "metadata": {
        "id": "tPrCEy5klb-H"
      },
      "execution_count": 1,
      "outputs": []
    },
    {
      "cell_type": "code",
      "source": [
        "%%time\n",
        "test=pd.read_csv(\"/content/drive/MyDrive/Colab Notebooks/1668924906_3531766_test-data-images.txt\",header=None,sep=\",\")"
      ],
      "metadata": {
        "colab": {
          "base_uri": "https://localhost:8080/"
        },
        "id": "WOVkpYKjlqbV",
        "outputId": "84c5cb86-f226-4b1a-c673-e5829e9a0578"
      },
      "execution_count": 2,
      "outputs": [
        {
          "output_type": "stream",
          "name": "stdout",
          "text": [
            "CPU times: user 913 ms, sys: 128 ms, total: 1.04 s\n",
            "Wall time: 3.38 s\n"
          ]
        }
      ]
    },
    {
      "cell_type": "code",
      "source": [
        "%%time\n",
        "def euclidean_dist(i,c):\n",
        "  x=np.sum((i-c)**2)\n",
        "  return np.sqrt(x)\n",
        "\n",
        "def generate_clusters(input,centroids):\n",
        "  found_centroid=[]\n",
        "  for i in input:\n",
        "    cal_distance=[euclidean_dist(i,c) for c in centroids]\n",
        "    found_centroid.append(np.argmin(cal_distance))\n",
        "  return found_centroid\n",
        "\n",
        "def update_centroid(test,groups):\n",
        "  test=pd.DataFrame(test)\n",
        "  test['cluster']=groups\n",
        "  new_values=[]\n",
        "  unique=set(test['cluster'])\n",
        "  for i in unique:\n",
        "    cluster_i=test[test['cluster']==i][test.columns[:-1]]\n",
        "    median=np.median(cluster_i,axis=0)\n",
        "    new_values.append(median)\n",
        "  return test,new_values\n",
        "\n",
        "def check_centroid(cen,updated_cen):\n",
        "  np_cen=np.array(cen)\n",
        "  np_updated_cen=np.array(updated_cen)\n",
        "  return euclidean_dist(np_cen,np_updated_cen)\n",
        "\n",
        "def kmeans(test_np,k,iterations):\n",
        "  np.random.seed(42)\n",
        "  centroids=[]\n",
        "  centroids=[test_np[i] for i in np.random.choice(range(0,len(test_np)),k)]\n",
        "  print(\"Initial centroids:\",centroids,end='\\n\\n')\n",
        "  np.array(centroids)\n",
        "  for i in range(iterations):\n",
        "    clusters_values=generate_clusters(test_np,centroids)\n",
        "    updated_test,updated_centres=update_centroid(test_np,clusters_values)\n",
        "    if check_centroid(centroids,updated_centres)==0:\n",
        "      print(i)\n",
        "      break\n",
        "    else:\n",
        "      centroids=updated_centres\n",
        "  return updated_test,centroids"
      ],
      "metadata": {
        "colab": {
          "base_uri": "https://localhost:8080/"
        },
        "id": "YrT-TeOOlu12",
        "outputId": "86e023d1-bc92-47ce-bcb2-050ad62a88d1"
      },
      "execution_count": 7,
      "outputs": [
        {
          "output_type": "stream",
          "name": "stdout",
          "text": [
            "CPU times: user 9 µs, sys: 0 ns, total: 9 µs\n",
            "Wall time: 15.3 µs\n"
          ]
        }
      ]
    },
    {
      "cell_type": "code",
      "source": [
        "%%time\n",
        "svd=TruncatedSVD(n_components=50,random_state=42)\n",
        "transformed_test=svd.fit_transform(test)"
      ],
      "metadata": {
        "colab": {
          "base_uri": "https://localhost:8080/"
        },
        "id": "z8hedU1V-3RH",
        "outputId": "63926e39-3b93-4434-e0cf-80e6501f0b33"
      },
      "execution_count": 4,
      "outputs": [
        {
          "output_type": "stream",
          "name": "stdout",
          "text": [
            "CPU times: user 1.84 s, sys: 813 ms, total: 2.65 s\n",
            "Wall time: 3.01 s\n"
          ]
        }
      ]
    },
    {
      "cell_type": "code",
      "source": [
        "%%time\n",
        "tsne=TSNE(n_components=2,n_iter=1000,n_jobs=-1,random_state=42)\n",
        "test_tsne=tsne.fit_transform(transformed_test)\n",
        "test_tsne"
      ],
      "metadata": {
        "colab": {
          "base_uri": "https://localhost:8080/"
        },
        "id": "3kkHgfOh--F_",
        "outputId": "d29dc2fb-54cd-4c76-caf6-4d2819bd260e"
      },
      "execution_count": 5,
      "outputs": [
        {
          "output_type": "stream",
          "name": "stderr",
          "text": [
            "/usr/local/lib/python3.7/dist-packages/sklearn/manifold/_t_sne.py:783: FutureWarning: The default initialization in TSNE will change from 'random' to 'pca' in 1.2.\n",
            "  FutureWarning,\n",
            "/usr/local/lib/python3.7/dist-packages/sklearn/manifold/_t_sne.py:793: FutureWarning: The default learning rate in TSNE will change from 200.0 to 'auto' in 1.2.\n",
            "  FutureWarning,\n"
          ]
        },
        {
          "output_type": "stream",
          "name": "stdout",
          "text": [
            "CPU times: user 3min 29s, sys: 1.45 s, total: 3min 31s\n",
            "Wall time: 1min 52s\n"
          ]
        },
        {
          "output_type": "execute_result",
          "data": {
            "text/plain": [
              "array([[-29.486307,  62.539776],\n",
              "       [-47.75286 , -41.122913],\n",
              "       [-52.50872 , -61.413116],\n",
              "       ...,\n",
              "       [ 45.431103, -18.286728],\n",
              "       [ 36.600044,  52.55174 ],\n",
              "       [  8.02104 ,  70.30042 ]], dtype=float32)"
            ]
          },
          "metadata": {},
          "execution_count": 5
        }
      ]
    },
    {
      "cell_type": "code",
      "source": [
        "%%time\n",
        "count=np.arange(2,21,2)\n",
        "list_of_errors=[]\n",
        "for i in count:\n",
        "  df,centroids=kmeans(test_tsne,i,100)\n",
        "  total_error=0\n",
        "  x=len(centroids)\n",
        "  for k in range(x):\n",
        "    error=0\n",
        "    current=df[df['cluster']==k][df.columns[:-1]]\n",
        "    for line,i in current.iterrows():\n",
        "      error=error+np.round(euclidean_dist(centroids[k],i))\n",
        "      total_error+=error\n",
        "  list_of_errors.append(total_error)"
      ],
      "metadata": {
        "colab": {
          "base_uri": "https://localhost:8080/"
        },
        "id": "wqg7l32VmGWD",
        "outputId": "6a6fbc66-f064-40a9-ca04-fd645e505821"
      },
      "execution_count": 6,
      "outputs": [
        {
          "output_type": "stream",
          "name": "stdout",
          "text": [
            "Initial centroids: [array([42.135307, 14.118372], dtype=float32), array([60.21197 , 19.784096], dtype=float32)]\n",
            "\n",
            "Initial centroids: [array([42.135307, 14.118372], dtype=float32), array([60.21197 , 19.784096], dtype=float32), array([ 31.988607, -31.058563], dtype=float32), array([  5.2912354, -19.78587  ], dtype=float32)]\n",
            "\n",
            "Initial centroids: [array([42.135307, 14.118372], dtype=float32), array([60.21197 , 19.784096], dtype=float32), array([ 31.988607, -31.058563], dtype=float32), array([  5.2912354, -19.78587  ], dtype=float32), array([38.198566, 20.780445], dtype=float32), array([-6.3414783, 61.03104  ], dtype=float32)]\n",
            "\n",
            "Initial centroids: [array([42.135307, 14.118372], dtype=float32), array([60.21197 , 19.784096], dtype=float32), array([ 31.988607, -31.058563], dtype=float32), array([  5.2912354, -19.78587  ], dtype=float32), array([38.198566, 20.780445], dtype=float32), array([-6.3414783, 61.03104  ], dtype=float32), array([-14.423332,  48.33274 ], dtype=float32), array([-61.873207,  22.893011], dtype=float32)]\n",
            "\n",
            "Initial centroids: [array([42.135307, 14.118372], dtype=float32), array([60.21197 , 19.784096], dtype=float32), array([ 31.988607, -31.058563], dtype=float32), array([  5.2912354, -19.78587  ], dtype=float32), array([38.198566, 20.780445], dtype=float32), array([-6.3414783, 61.03104  ], dtype=float32), array([-14.423332,  48.33274 ], dtype=float32), array([-61.873207,  22.893011], dtype=float32), array([-50.172226, -60.21144 ], dtype=float32), array([-40.039677,  13.25647 ], dtype=float32)]\n",
            "\n",
            "Initial centroids: [array([42.135307, 14.118372], dtype=float32), array([60.21197 , 19.784096], dtype=float32), array([ 31.988607, -31.058563], dtype=float32), array([  5.2912354, -19.78587  ], dtype=float32), array([38.198566, 20.780445], dtype=float32), array([-6.3414783, 61.03104  ], dtype=float32), array([-14.423332,  48.33274 ], dtype=float32), array([-61.873207,  22.893011], dtype=float32), array([-50.172226, -60.21144 ], dtype=float32), array([-40.039677,  13.25647 ], dtype=float32), array([ 27.427132, -75.79576 ], dtype=float32), array([-51.953007,  32.708893], dtype=float32)]\n",
            "\n",
            "Initial centroids: [array([42.135307, 14.118372], dtype=float32), array([60.21197 , 19.784096], dtype=float32), array([ 31.988607, -31.058563], dtype=float32), array([  5.2912354, -19.78587  ], dtype=float32), array([38.198566, 20.780445], dtype=float32), array([-6.3414783, 61.03104  ], dtype=float32), array([-14.423332,  48.33274 ], dtype=float32), array([-61.873207,  22.893011], dtype=float32), array([-50.172226, -60.21144 ], dtype=float32), array([-40.039677,  13.25647 ], dtype=float32), array([ 27.427132, -75.79576 ], dtype=float32), array([-51.953007,  32.708893], dtype=float32), array([22.675097, 54.531456], dtype=float32), array([-10.858865,  50.444145], dtype=float32)]\n",
            "\n",
            "Initial centroids: [array([42.135307, 14.118372], dtype=float32), array([60.21197 , 19.784096], dtype=float32), array([ 31.988607, -31.058563], dtype=float32), array([  5.2912354, -19.78587  ], dtype=float32), array([38.198566, 20.780445], dtype=float32), array([-6.3414783, 61.03104  ], dtype=float32), array([-14.423332,  48.33274 ], dtype=float32), array([-61.873207,  22.893011], dtype=float32), array([-50.172226, -60.21144 ], dtype=float32), array([-40.039677,  13.25647 ], dtype=float32), array([ 27.427132, -75.79576 ], dtype=float32), array([-51.953007,  32.708893], dtype=float32), array([22.675097, 54.531456], dtype=float32), array([-10.858865,  50.444145], dtype=float32), array([-41.229027,  -8.797831], dtype=float32), array([ 49.46233 , -26.213198], dtype=float32)]\n",
            "\n",
            "Initial centroids: [array([42.135307, 14.118372], dtype=float32), array([60.21197 , 19.784096], dtype=float32), array([ 31.988607, -31.058563], dtype=float32), array([  5.2912354, -19.78587  ], dtype=float32), array([38.198566, 20.780445], dtype=float32), array([-6.3414783, 61.03104  ], dtype=float32), array([-14.423332,  48.33274 ], dtype=float32), array([-61.873207,  22.893011], dtype=float32), array([-50.172226, -60.21144 ], dtype=float32), array([-40.039677,  13.25647 ], dtype=float32), array([ 27.427132, -75.79576 ], dtype=float32), array([-51.953007,  32.708893], dtype=float32), array([22.675097, 54.531456], dtype=float32), array([-10.858865,  50.444145], dtype=float32), array([-41.229027,  -8.797831], dtype=float32), array([ 49.46233 , -26.213198], dtype=float32), array([-19.576487, -60.967434], dtype=float32), array([62.274155 ,  1.9505963], dtype=float32)]\n",
            "\n",
            "Initial centroids: [array([42.135307, 14.118372], dtype=float32), array([60.21197 , 19.784096], dtype=float32), array([ 31.988607, -31.058563], dtype=float32), array([  5.2912354, -19.78587  ], dtype=float32), array([38.198566, 20.780445], dtype=float32), array([-6.3414783, 61.03104  ], dtype=float32), array([-14.423332,  48.33274 ], dtype=float32), array([-61.873207,  22.893011], dtype=float32), array([-50.172226, -60.21144 ], dtype=float32), array([-40.039677,  13.25647 ], dtype=float32), array([ 27.427132, -75.79576 ], dtype=float32), array([-51.953007,  32.708893], dtype=float32), array([22.675097, 54.531456], dtype=float32), array([-10.858865,  50.444145], dtype=float32), array([-41.229027,  -8.797831], dtype=float32), array([ 49.46233 , -26.213198], dtype=float32), array([-19.576487, -60.967434], dtype=float32), array([62.274155 ,  1.9505963], dtype=float32), array([-8.358938, 28.399792], dtype=float32), array([ 49.318924, -32.33737 ], dtype=float32)]\n",
            "\n",
            "CPU times: user 5min 38s, sys: 15.3 s, total: 5min 53s\n",
            "Wall time: 5min 36s\n"
          ]
        }
      ]
    },
    {
      "cell_type": "code",
      "source": [
        "%%time\n",
        "plt.figure()\n",
        "plt.xlim(0,22)\n",
        "steps = [2,4,6,8,10,12,14,16,18,20]\n",
        "plt.plot(count,list_of_errors,marker='*')\n",
        "plt.xticks(count,steps)\n",
        "plt.xlabel(\"Number of Clusters\")\n",
        "plt.ylabel(\"SSE\")\n",
        "plt.show()"
      ],
      "metadata": {
        "colab": {
          "base_uri": "https://localhost:8080/",
          "height": 325
        },
        "id": "kdmzkJGY7kU2",
        "outputId": "baba97a1-e72a-48d3-e653-39f929ed6b6d"
      },
      "execution_count": 8,
      "outputs": [
        {
          "output_type": "display_data",
          "data": {
            "text/plain": [
              "<Figure size 432x288 with 1 Axes>"
            ],
            "image/png": "[encoded data removed]"
          },
          "metadata": {
            "needs_background": "light"
          }
        },
        {
          "output_type": "stream",
          "name": "stdout",
          "text": [
            "CPU times: user 158 ms, sys: 5.99 ms, total: 164 ms\n",
            "Wall time: 188 ms\n"
          ]
        }
      ]
    },
    {
      "cell_type": "code",
      "source": [
        "%%time\n",
        "df,centroids=kmeans(test_tsne,10,100)\n",
        "clusters=df['cluster']+1\n",
        "\n",
        "file=open(\"/content/drive/MyDrive/Colab Notebooks/output_imgmediantsne.txt\",'w')\n",
        "for i in clusters:\n",
        "  file.write(str(i))\n",
        "  file.write(\"\\n\")\n",
        "file.close()\n",
        "print(\"values copied into text file\")"
      ],
      "metadata": {
        "colab": {
          "base_uri": "https://localhost:8080/"
        },
        "id": "IlTlGIEltPmI",
        "outputId": "c6335e9b-6a44-42b8-df10-c591268b5a32"
      },
      "execution_count": 8,
      "outputs": [
        {
          "output_type": "stream",
          "name": "stdout",
          "text": [
            "Initial centroids: [array([42.135307, 14.118372], dtype=float32), array([60.21197 , 19.784096], dtype=float32), array([ 31.988607, -31.058563], dtype=float32), array([  5.2912354, -19.78587  ], dtype=float32), array([38.198566, 20.780445], dtype=float32), array([-6.3414783, 61.03104  ], dtype=float32), array([-14.423332,  48.33274 ], dtype=float32), array([-61.873207,  22.893011], dtype=float32), array([-50.172226, -60.21144 ], dtype=float32), array([-40.039677,  13.25647 ], dtype=float32)]\n",
            "\n",
            "21\n",
            "values copied into text file\n",
            "CPU times: user 31 s, sys: 1.62 s, total: 32.6 s\n",
            "Wall time: 30.1 s\n"
          ]
        }
      ]
    },
    {
      "cell_type": "code",
      "source": [],
      "metadata": {
        "id": "BzpzxERs-Hg8"
      },
      "execution_count": null,
      "outputs": []
    }
  ]
}