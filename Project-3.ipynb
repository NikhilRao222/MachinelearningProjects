{
 "cells": [
  {
   "cell_type": "code",
   "execution_count": 21,
   "metadata": {
    "colab": {
     "base_uri": "https://localhost:8080/"
    },
    "id": "NR00e5i0SUkW",
    "outputId": "666dc96f-d1a2-4f28-dde4-1b031f90062b"
   },
   "outputs": [
    {
     "name": "stdout",
     "output_type": "stream",
     "text": [
      "CPU times: user 125 µs, sys: 8 µs, total: 133 µs\n",
      "Wall time: 137 µs\n"
     ]
    }
   ],
   "source": [
    "%%time\n",
    "import pandas as pd\n",
    "import numpy as np\n",
    "from sklearn.model_selection import train_test_split\n",
    "from sklearn.metrics import f1_score\n",
    "from sklearn.tree import DecisionTreeClassifier\n",
    "from sklearn.metrics import classification_report\n",
    "from imblearn.over_sampling import SMOTE, SVMSMOTE\n",
    "from collections import Counter\n",
    "from sklearn.model_selection import RepeatedStratifiedKFold, cross_val_score, cross_val_predict,StratifiedShuffleSplit, StratifiedKFold\n",
    "from sklearn.metrics import f1_score\n",
    "from sklearn.feature_selection import SelectPercentile, chi2"
   ]
  },
  {
   "cell_type": "code",
   "execution_count": 23,
   "metadata": {
    "colab": {
     "base_uri": "https://localhost:8080/"
    },
    "id": "ND075NAkTKdR",
    "outputId": "c5254a08-c73d-41a5-d6b9-b77b1f6109f5"
   },
   "outputs": [
    {
     "name": "stdout",
     "output_type": "stream",
     "text": [
      "CPU times: user 7.2 s, sys: 79.6 ms, total: 7.28 s\n",
      "Wall time: 7.28 s\n"
     ]
    }
   ],
   "source": [
    "%%time\n",
    "with open('/content/drive/MyDrive/Colab Notebooks/train.txt','r') as train:\n",
    "  train=train.readlines()\n",
    "  train_values=[]\n",
    "  train_labels=[]\n",
    "\n",
    "  for i in train:\n",
    "    columns=[0 for i in range(100000)]\n",
    "    train_labels.append(int(i[0]))\n",
    "    i=i.replace(\"0\\t\",\"\")\n",
    "    i=i.replace(\"1\\t\",\"\")\n",
    "    i=i.replace(\"\\n\",\"\")\n",
    "    new_list=list(map(int,i.split(\" \")[:-1]))\n",
    "    for i in new_list:\n",
    "      columns[i-1]=1\n",
    "    train_values.append(columns)\n",
    "  x=np.array(train_values)\n",
    "  y=np.array(train_labels)"
   ]
  },
  {
   "cell_type": "code",
   "execution_count": 24,
   "metadata": {
    "colab": {
     "base_uri": "https://localhost:8080/"
    },
    "id": "LfWYdmTKZ_l3",
    "outputId": "27419f63-f1d3-4e6b-e13e-01fb4994bcb9"
   },
   "outputs": [
    {
     "name": "stdout",
     "output_type": "stream",
     "text": [
      "CPU times: user 2.94 s, sys: 122 ms, total: 3.07 s\n",
      "Wall time: 3.08 s\n"
     ]
    }
   ],
   "source": [
    "%%time\n",
    "with open('/content/drive/MyDrive/Colab Notebooks/test.txt','r') as test:\n",
    "  test=test.readlines()\n",
    "  test_values=[]\n",
    "\n",
    "  for i in test:\n",
    "    columns=[0 for i in range(100000)]\n",
    "    new_list=list(map(int,i.split(\" \")[:-1]))\n",
    "    for i in new_list:\n",
    "      columns[i-1]=1\n",
    "    test_values.append(columns)\n",
    "  test=np.array(test_values)"
   ]
  },
  {
   "cell_type": "code",
   "execution_count": 25,
   "metadata": {
    "colab": {
     "base_uri": "https://localhost:8080/"
    },
    "id": "et-XJ8wpYuTR",
    "outputId": "923100f7-8614-427d-df69-35d29a4edb03"
   },
   "outputs": [
    {
     "name": "stdout",
     "output_type": "stream",
     "text": [
      "CPU times: user 61.2 ms, sys: 2 µs, total: 61.2 ms\n",
      "Wall time: 63.6 ms\n"
     ]
    }
   ],
   "source": [
    "%%time\n",
    "shuffle = StratifiedShuffleSplit(n_splits=1, test_size=0.2, random_state=42)\n",
    "for train_records, test_records in shuffle.split(x, y):\n",
    "  X_train, X_test = x[train_records], x[test_records]\n",
    "  y_train, y_test = y[train_records], y[test_records]"
   ]
  },
  {
   "cell_type": "code",
   "execution_count": 26,
   "metadata": {
    "colab": {
     "base_uri": "https://localhost:8080/"
    },
    "id": "2RJwHwsGrlvh",
    "outputId": "0e14a819-e304-4179-f6e1-a0cc82710886"
   },
   "outputs": [
    {
     "name": "stdout",
     "output_type": "stream",
     "text": [
      "CPU times: user 4 µs, sys: 1e+03 ns, total: 5 µs\n",
      "Wall time: 7.87 µs\n"
     ]
    }
   ],
   "source": [
    "%%time\n",
    "def adaboost(X, y, n_models, random_state=0):\n",
    "  y_sign = np.where(y==0, -1, 1)\n",
    "  sample_weight = np.ones(len(X))*(1/len(X))\n",
    "  models_ = []\n",
    "  alphas = []\n",
    "  weights = []\n",
    "  var = 0\n",
    "  for i in range(n_models):\n",
    "    seed = np.random.RandomState(random_state)\n",
    "    model = DecisionTreeClassifier(max_depth=1, random_state=seed)\n",
    "    model.fit(X, y_sign, sample_weight=sample_weight)\n",
    "    models_.append(model)\n",
    "    y_prediction = model.predict(X)\n",
    "    incorrects = (y_prediction != y_sign).astype(int)\n",
    "    e = np.sum(incorrects*sample_weight)\n",
    "    performance = 0.5 * np.log((1-e)/e)\n",
    "    alphas.append(performance)\n",
    "    if i!= (n_models-1):\n",
    "      sample_weight *= np.exp(-1*performance*y_sign*y_prediction)\n",
    "      sample_weight /= sample_weight.sum()\n",
    "    var += performance*y_prediction\n",
    "  result = np.where(np.sign(var)==-1, 0, 1)\n",
    "  return result, alphas, models_"
   ]
  },
  {
   "cell_type": "code",
   "execution_count": 27,
   "metadata": {
    "colab": {
     "base_uri": "https://localhost:8080/"
    },
    "id": "8McKXh1Ss-e4",
    "outputId": "8409c7fe-cabd-48b2-b3a0-a20d8ac1923b"
   },
   "outputs": [
    {
     "name": "stdout",
     "output_type": "stream",
     "text": [
      "CPU times: user 4 µs, sys: 0 ns, total: 4 µs\n",
      "Wall time: 9.06 µs\n"
     ]
    }
   ],
   "source": [
    "%%time\n",
    "def predict_values(X, alphas, models):\n",
    "  value = 0\n",
    "  for index, est in enumerate(models):\n",
    "    y_pred = est.predict(X)\n",
    "    value += alphas[index]*y_pred\n",
    "  result = np.where(np.sign(value)==-1, 0, 1)\n",
    "  return result"
   ]
  },
  {
   "cell_type": "code",
   "execution_count": 28,
   "metadata": {
    "colab": {
     "base_uri": "https://localhost:8080/"
    },
    "id": "LbmuMvp7sGXu",
    "outputId": "aff224db-c250-4f4d-9244-dbd1d38f3f7b"
   },
   "outputs": [
    {
     "name": "stdout",
     "output_type": "stream",
     "text": [
      "CPU times: user 4 µs, sys: 0 ns, total: 4 µs\n",
      "Wall time: 7.63 µs\n"
     ]
    }
   ],
   "source": [
    "%%time\n",
    "def cross_validation_score(n_splits, X, y,alphas,estimators):\n",
    "  cv = StratifiedKFold(n_splits)\n",
    "  output = []\n",
    "  for train_loc, test_loc in cv.split(X, y):\n",
    "    X_train, X_test = X[train_loc], X[test_loc]\n",
    "    y_train, y_test = y[train_loc], y[test_loc]\n",
    "    y_prediction = predict_values(X_test,alphas,estimators)\n",
    "    output.append(np.round(f1_score(y_test, y_prediction), 3))\n",
    "  return output"
   ]
  },
  {
   "cell_type": "code",
   "execution_count": 31,
   "metadata": {
    "colab": {
     "base_uri": "https://localhost:8080/"
    },
    "id": "MVgznIXFrly9",
    "outputId": "5a475daa-1290-4223-8fd0-bd416f451180"
   },
   "outputs": [
    {
     "name": "stdout",
     "output_type": "stream",
     "text": [
      "Number of estimators: 100\n",
      "Mean of f1 Score:  0.813\n",
      "variance of f1 score:  0.193\n",
      "-----------------------------------------------------\n",
      "Number of estimators: 200\n",
      "Mean of f1 Score:  0.843\n",
      "variance of f1 score:  0.184\n",
      "-----------------------------------------------------\n",
      "Number of estimators: 300\n",
      "Mean of f1 Score:  0.792\n",
      "variance of f1 score:  0.17\n",
      "-----------------------------------------------------\n",
      "Number of estimators: 400\n",
      "Mean of f1 Score:  0.753\n",
      "variance of f1 score:  0.172\n",
      "-----------------------------------------------------\n",
      "Number of estimators: 500\n",
      "Mean of f1 Score:  0.758\n",
      "variance of f1 score:  0.148\n",
      "-----------------------------------------------------\n",
      "CPU times: user 6.67 s, sys: 509 ms, total: 7.17 s\n",
      "Wall time: 6.63 s\n"
     ]
    }
   ],
   "source": [
    "%%time\n",
    "for i in range(100,501,100):\n",
    "  reduction = SelectPercentile(chi2, percentile=0.1)\n",
    "  new_x_train = reduction.fit_transform(X_train, y_train)\n",
    "  sm = SVMSMOTE()\n",
    "  x_smote, y_smote = sm.fit_resample(new_x_train, y_train)\n",
    "  yp_train, alphas, estimators = adaboost(x_smote, y_smote, i, random_state=42)\n",
    "  scores = cross_validation_score(5, x_smote, y_smote,alphas,estimators)\n",
    "  print(f'Number of estimators: {i}')\n",
    "  print('Mean of f1 Score: ', np.round(np.mean(scores), 3))\n",
    "  print('variance of f1 score: ', np.round(np.std(scores), 3))\n",
    "  print(\"-----------------------------------------------------\")"
   ]
  },
  {
   "cell_type": "code",
   "execution_count": 32,
   "metadata": {
    "colab": {
     "base_uri": "https://localhost:8080/"
    },
    "id": "cedLEe8n_qsE",
    "outputId": "07b31ee5-7ed8-4df2-e0c7-9e82f3108ec2"
   },
   "outputs": [
    {
     "name": "stdout",
     "output_type": "stream",
     "text": [
      "percentile : 10\n",
      "Mean of f1 Score:  0.812\n",
      "variance of f1 score:  0.205\n",
      "-----------------------------------------------------\n",
      "percentile : 20\n",
      "Mean of f1 Score:  0.722\n",
      "variance of f1 score:  0.203\n",
      "-----------------------------------------------------\n",
      "percentile : 30\n",
      "Mean of f1 Score:  0.863\n",
      "variance of f1 score:  0.151\n",
      "-----------------------------------------------------\n",
      "percentile : 40\n",
      "Mean of f1 Score:  0.858\n",
      "variance of f1 score:  0.121\n",
      "-----------------------------------------------------\n",
      "percentile : 50\n",
      "Mean of f1 Score:  0.837\n",
      "variance of f1 score:  0.121\n",
      "-----------------------------------------------------\n",
      "percentile : 60\n",
      "Mean of f1 Score:  0.813\n",
      "variance of f1 score:  0.121\n",
      "-----------------------------------------------------\n",
      "percentile : 70\n",
      "Mean of f1 Score:  0.83\n",
      "variance of f1 score:  0.129\n",
      "-----------------------------------------------------\n",
      "percentile : 80\n",
      "Mean of f1 Score:  0.89\n",
      "variance of f1 score:  0.093\n",
      "-----------------------------------------------------\n",
      "percentile : 90\n",
      "Mean of f1 Score:  0.855\n",
      "variance of f1 score:  0.08\n",
      "-----------------------------------------------------\n",
      "percentile : 100\n",
      "Mean of f1 Score:  0.881\n",
      "variance of f1 score:  0.135\n",
      "-----------------------------------------------------\n"
     ]
    }
   ],
   "source": [
    "for i in range(10,101,10):\n",
    "  reduction = SelectPercentile(chi2, percentile=i/100)\n",
    "  new_x_train = reduction.fit_transform(X_train, y_train)\n",
    "  sm = SVMSMOTE()\n",
    "  x_smote, y_smote = sm.fit_resample(new_x_train, y_train)\n",
    "  yp_train, alphas, estimators = adaboost(x_smote, y_smote, 100, random_state=42)\n",
    "  scores = cross_validation_score(5, x_smote, y_smote,alphas,estimators)\n",
    "  print(f'percentile : {i}')\n",
    "  print('Mean of f1 Score: ', np.round(np.mean(scores), 3))\n",
    "  print('variance of f1 score: ', np.round(np.std(scores), 3))\n",
    "  print(\"-----------------------------------------------------\")"
   ]
  },
  {
   "cell_type": "code",
   "execution_count": 33,
   "metadata": {
    "colab": {
     "base_uri": "https://localhost:8080/"
    },
    "id": "fmOMmaLbuei_",
    "outputId": "6c56379b-eccd-478a-de98-7838ba0dcff2"
   },
   "outputs": [
    {
     "name": "stdout",
     "output_type": "stream",
     "text": [
      "F1 score of test set: 0.8294573643410853\n",
      "CPU times: user 957 ms, sys: 106 ms, total: 1.06 s\n",
      "Wall time: 945 ms\n"
     ]
    }
   ],
   "source": [
    "%%time\n",
    "reduction = SelectPercentile(chi2, percentile=0.1)\n",
    "new_x_train = reduction.fit_transform(X_train, y_train)\n",
    "sm = SVMSMOTE()\n",
    "x_smote, y_smote = sm.fit_resample(new_x_train, y_train)\n",
    "yp_train, alphas, estimators = adaboost(x_smote, y_smote, 100, random_state=42)\n",
    "new_x_test = reduction.transform(X_test)\n",
    "new_x_test, y_test_smote = sm.fit_resample(new_x_test, y_test)\n",
    "yp_test = predict_values(new_x_test, alphas, estimators)\n",
    "print(f'F1 score of test set: {f1_score(y_test_smote, yp_test)}')"
   ]
  },
  {
   "cell_type": "code",
   "execution_count": 34,
   "metadata": {
    "colab": {
     "base_uri": "https://localhost:8080/"
    },
    "id": "hJ0zozFjrl20",
    "outputId": "878a81c2-1a51-43fe-c500-320caf3457b5"
   },
   "outputs": [
    {
     "name": "stdout",
     "output_type": "stream",
     "text": [
      "CPU times: user 16.3 ms, sys: 144 µs, total: 16.4 ms\n",
      "Wall time: 19.2 ms\n"
     ]
    }
   ],
   "source": [
    "%%time\n",
    "new_test = reduction.transform(test)\n",
    "test_out = predict_values(new_test,alphas, estimators)\n",
    "file = open('/content/drive/MyDrive/Colab Notebooks/result.txt', 'w')\n",
    "for i in test_out:\n",
    "  file.write(str(i))\n",
    "  file.write(\"\\n\")\n",
    "file.close()"
   ]
  }
 ],
 "metadata": {
  "colab": {
   "collapsed_sections": [],
   "provenance": []
  },
  "kernelspec": {
   "display_name": "Python 3 (ipykernel)",
   "language": "python",
   "name": "python3"
  },
  "language_info": {
   "codemirror_mode": {
    "name": "ipython",
    "version": 3
   },
   "file_extension": ".py",
   "mimetype": "text/x-python",
   "name": "python",
   "nbconvert_exporter": "python",
   "pygments_lexer": "ipython3",
   "version": "3.9.7"
  }
 },
 "nbformat": 4,
 "nbformat_minor": 1
}
