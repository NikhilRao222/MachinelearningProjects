{
  "nbformat": 4,
  "nbformat_minor": 0,
  "metadata": {
    "colab": {
      "provenance": []
    },
    "kernelspec": {
      "name": "python3",
      "display_name": "Python 3"
    },
    "language_info": {
      "name": "python"
    }
  },
  "cells": [
    {
      "cell_type": "code",
      "source": [
        "%%time\n",
        "import numpy as np\n",
        "import pandas as pd\n",
        "import random\n",
        "import math\n",
        "from sklearn.manifold import TSNE\n",
        "import matplotlib.pyplot as plt\n",
        "from sklearn.decomposition import TruncatedSVD\n",
        "from sklearn.decomposition import PCA"
      ],
      "metadata": {
        "id": "-Hcr8iSIXEDR",
        "colab": {
          "base_uri": "https://localhost:8080/"
        },
        "outputId": "6de1face-d167-4262-b9b5-7fb71a6892ed"
      },
      "execution_count": 18,
      "outputs": [
        {
          "output_type": "stream",
          "name": "stdout",
          "text": [
            "CPU times: user 107 µs, sys: 12 µs, total: 119 µs\n",
            "Wall time: 133 µs\n"
          ]
        }
      ]
    },
    {
      "cell_type": "code",
      "source": [
        "%%time\n",
        "#iris dataset\n",
        "test_iris=pd.read_csv(\"/content/drive/MyDrive/Colab Notebooks/1668923288_8836925_test-data-iris.txt\",header=None,sep=\" \")"
      ],
      "metadata": {
        "colab": {
          "base_uri": "https://localhost:8080/"
        },
        "id": "Qvqd6hqy1IKs",
        "outputId": "c32ed631-6b29-4c00-e305-c748c6df1876"
      },
      "execution_count": 19,
      "outputs": [
        {
          "output_type": "stream",
          "name": "stdout",
          "text": [
            "CPU times: user 7.12 ms, sys: 2.06 ms, total: 9.18 ms\n",
            "Wall time: 13.3 ms\n"
          ]
        }
      ]
    },
    {
      "cell_type": "code",
      "source": [
        "%%time\n",
        "def euclidean_dist(i,c):\n",
        "  x=np.sum((i-c)**2)\n",
        "  return np.sqrt(x)\n",
        "\n",
        "def generate_clusters(input,centroids):\n",
        "  found_centroid=[]\n",
        "  for i in input:\n",
        "    cal_distance=[euclidean_dist(i,c) for c in centroids]\n",
        "    found_centroid.append(np.argmin(cal_distance))\n",
        "  return found_centroid\n",
        "\n",
        "def update_centroid(test,groups):\n",
        "  test=pd.DataFrame(test)\n",
        "  test['cluster']=groups\n",
        "  new_values=[]\n",
        "  unique=set(test['cluster'])\n",
        "  for i in unique:\n",
        "    cluster_i=test[test['cluster']==i][test.columns[:-1]]\n",
        "    median=np.median(cluster_i,axis=0)\n",
        "    new_values.append(median)\n",
        "  return test,new_values\n",
        "\n",
        "def check_centroid(cen,updated_cen):\n",
        "  np_cen=np.array(cen)\n",
        "  np_updated_cen=np.array(updated_cen)\n",
        "  #print(euclidean_dist(np_cen,np_updated_cen))\n",
        "  return euclidean_dist(np_cen,np_updated_cen)\n",
        "\n",
        "def kmeans(test_np,k,iterations):\n",
        "  #np.random.seed(13)\n",
        "  centroids=[]\n",
        "  centroids=[test_np[i] for i in random.sample(range(0,len(test_np)),k)]\n",
        "  print(\"Initial centroids\",centroids)\n",
        "  np.array(centroids)\n",
        "  for i in range(iterations):\n",
        "    clusters_values=generate_clusters(test_np,centroids)\n",
        "    updated_test,updated_centres=update_centroid(test_np,clusters_values)\n",
        "    if check_centroid(centroids,updated_centres)==0:\n",
        "      print(i)\n",
        "      break\n",
        "    else:\n",
        "      centroids=updated_centres\n",
        "  return updated_test,centroids"
      ],
      "metadata": {
        "colab": {
          "base_uri": "https://localhost:8080/"
        },
        "id": "sIXDahxv8Is9",
        "outputId": "59ff7885-72a9-49bb-f3b5-c028ac2016e7"
      },
      "execution_count": 25,
      "outputs": [
        {
          "output_type": "stream",
          "name": "stdout",
          "text": [
            "CPU times: user 6 µs, sys: 0 ns, total: 6 µs\n",
            "Wall time: 12.2 µs\n"
          ]
        }
      ]
    },
    {
      "cell_type": "code",
      "source": [
        "%%time\n",
        "pca=PCA(n_components=2)\n",
        "transformed_test=pca.fit_transform(test_iris)"
      ],
      "metadata": {
        "colab": {
          "base_uri": "https://localhost:8080/"
        },
        "id": "RUhupB6y6JQT",
        "outputId": "8723b69d-ce0b-4402-e81f-2b25ac718e95"
      },
      "execution_count": 22,
      "outputs": [
        {
          "output_type": "stream",
          "name": "stdout",
          "text": [
            "CPU times: user 4.87 ms, sys: 0 ns, total: 4.87 ms\n",
            "Wall time: 8.06 ms\n"
          ]
        }
      ]
    },
    {
      "cell_type": "code",
      "source": [
        "tsne=TSNE(n_components=2,n_iter=1000,n_jobs=-1,random_state=42)\n",
        "test_tsne=tsne.fit_transform(transformed_test)"
      ],
      "metadata": {
        "colab": {
          "base_uri": "https://localhost:8080/"
        },
        "id": "a7aVQch16N8N",
        "outputId": "0a26ebf3-37ff-4c7b-d6ef-8d1c2211b9e3"
      },
      "execution_count": 23,
      "outputs": [
        {
          "output_type": "stream",
          "name": "stderr",
          "text": [
            "/usr/local/lib/python3.7/dist-packages/sklearn/manifold/_t_sne.py:783: FutureWarning: The default initialization in TSNE will change from 'random' to 'pca' in 1.2.\n",
            "  FutureWarning,\n",
            "/usr/local/lib/python3.7/dist-packages/sklearn/manifold/_t_sne.py:793: FutureWarning: The default learning rate in TSNE will change from 200.0 to 'auto' in 1.2.\n",
            "  FutureWarning,\n"
          ]
        }
      ]
    },
    {
      "cell_type": "code",
      "source": [
        "%%time\n",
        "count=np.arange(2,21,2)\n",
        "list_of_errors=[]\n",
        "for i in count:\n",
        "  df,centroids=kmeans(test_tsne,i,100)\n",
        "  total_error=0\n",
        "  x=len(centroids)\n",
        "  for k in range(x):\n",
        "    error=0\n",
        "    current=df[df['cluster']==k][df.columns[:-1]]\n",
        "    for line,i in current.iterrows():\n",
        "      error=error+np.round(euclidean_dist(centroids[k],i))\n",
        "      total_error+=error\n",
        "  list_of_errors.append(total_error)"
      ],
      "metadata": {
        "colab": {
          "base_uri": "https://localhost:8080/"
        },
        "id": "lWL8Cl0J9nBj",
        "outputId": "959dc6dd-a565-4f2b-f5e6-251942ade1d1"
      },
      "execution_count": 24,
      "outputs": [
        {
          "output_type": "stream",
          "name": "stdout",
          "text": [
            "CPU times: user 2.55 s, sys: 11.4 ms, total: 2.56 s\n",
            "Wall time: 2.52 s\n"
          ]
        }
      ]
    },
    {
      "cell_type": "code",
      "source": [
        "%%time\n",
        "plt.figure()\n",
        "plt.xlim(0,22)\n",
        "steps = [2,4,6,8,10,12,14,16,18,20]\n",
        "plt.plot(count,list_of_errors,marker='*')\n",
        "plt.xticks(count,steps)\n",
        "plt.xlabel(\"Number of Clusters\")\n",
        "plt.ylabel(\"SSE\")\n",
        "plt.show()"
      ],
      "metadata": {
        "colab": {
          "base_uri": "https://localhost:8080/",
          "height": 318
        },
        "id": "rWkYDI3v95rJ",
        "outputId": "e425275b-4944-4988-f02f-af0cb0d8b896"
      },
      "execution_count": 14,
      "outputs": [
        {
          "output_type": "display_data",
          "data": {
            "text/plain": [
              "<Figure size 432x288 with 1 Axes>"
            ],
            "image/png": "[encoded data removed]"
          },
          "metadata": {
            "needs_background": "light"
          }
        },
        {
          "output_type": "stream",
          "name": "stdout",
          "text": [
            "CPU times: user 132 ms, sys: 3.06 ms, total: 136 ms\n",
            "Wall time: 138 ms\n"
          ]
        }
      ]
    },
    {
      "cell_type": "code",
      "source": [
        "df,centroids=kmeans(test_tsne,3,80)\n",
        "clusters=df['cluster']+1"
      ],
      "metadata": {
        "colab": {
          "base_uri": "https://localhost:8080/"
        },
        "id": "xV4ief3BFef0",
        "outputId": "c04981ba-8ebb-4b93-f6ba-5e7189a39c3c"
      },
      "execution_count": 26,
      "outputs": [
        {
          "output_type": "stream",
          "name": "stdout",
          "text": [
            "Initial centroids [array([-13.686082, -11.736458], dtype=float32), array([ -6.933221, -11.157872], dtype=float32), array([-11.727853, -12.008156], dtype=float32)]\n",
            "5\n"
          ]
        }
      ]
    },
    {
      "cell_type": "code",
      "source": [
        "file=open(\"/content/drive/MyDrive/Colab Notebooks/output_irismediantsne.txt\",'w')\n",
        "for i in clusters:\n",
        "  file.write(str(i))\n",
        "  file.write(\"\\n\")\n",
        "file.close()"
      ],
      "metadata": {
        "id": "P0L3om3E1-7s"
      },
      "execution_count": 17,
      "outputs": []
    }
  ]
}